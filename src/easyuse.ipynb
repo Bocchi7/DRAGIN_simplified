{
 "cells": [
  {
   "cell_type": "code",
   "execution_count": null,
   "metadata": {},
   "outputs": [],
   "source": [
    "import os\n",
    "# os.environ[\"CUDA_VISIBLE_DEVICES\"] = ..."
   ]
  },
  {
   "cell_type": "code",
   "execution_count": null,
   "metadata": {},
   "outputs": [],
   "source": [
    "import json\n",
    "import argparse\n",
    "args_path = \"../config/DRAGIN.json\"\n",
    "with open(args_path, \"r\") as fin:\n",
    "    args = json.load(fin)\n",
    "args = argparse.Namespace(**args)\n",
    "args"
   ]
  },
  {
   "cell_type": "code",
   "execution_count": null,
   "metadata": {},
   "outputs": [],
   "source": [
    "from generate import DRAGIN\n",
    "model = DRAGIN(args)"
   ]
  },
  {
   "cell_type": "code",
   "execution_count": null,
   "metadata": {},
   "outputs": [],
   "source": [
    "from data import WikiMultiHopQA\n",
    "data = WikiMultiHopQA(args.data_path)\n",
    "data.format(fewshot=args.fewshot)\n",
    "data = data.dataset"
   ]
  },
  {
   "cell_type": "code",
   "execution_count": null,
   "metadata": {},
   "outputs": [],
   "source": [
    "demo = data[0][\"demo\"]\n",
    "demo[:10]"
   ]
  },
  {
   "cell_type": "code",
   "execution_count": null,
   "metadata": {},
   "outputs": [],
   "source": [
    "questions = [entry[\"question\"] for entry in data]\n",
    "questions[:10]"
   ]
  },
  {
   "cell_type": "code",
   "execution_count": null,
   "metadata": {},
   "outputs": [],
   "source": [
    "data[0]"
   ]
  },
  {
   "cell_type": "code",
   "execution_count": null,
   "metadata": {},
   "outputs": [],
   "source": [
    "print(questions[0])\n",
    "answer0 = model.inference(\n",
    "    question=questions[0],\n",
    "    demo=demo,\n",
    "    case=None\n",
    ")\n",
    "print(answer0)"
   ]
  },
  {
   "cell_type": "code",
   "execution_count": null,
   "metadata": {},
   "outputs": [],
   "source": [
    "print(questions[1])\n",
    "answer1 = model.inference(\n",
    "    question=questions[1],\n",
    "    demo=demo,\n",
    "    case=None\n",
    ")\n",
    "print(answer1)"
   ]
  },
  {
   "cell_type": "code",
   "execution_count": null,
   "metadata": {},
   "outputs": [],
   "source": [
    "print(questions[2])\n",
    "answer2 = model.inference(\n",
    "    question=questions[2],\n",
    "    demo=demo,\n",
    "    case=None\n",
    ")\n",
    "print(answer2)"
   ]
  },
  {
   "cell_type": "markdown",
   "metadata": {},
   "source": [
    "注意看看Elasticsearch是否部署好了。\n",
    "在命令行中输入\n",
    "```bash\n",
    "curl -X GET \"localhost:9200/_cat/indices?v\"\n",
    "```"
   ]
  }
 ],
 "metadata": {
  "kernelspec": {
   "display_name": "597_dragin_3",
   "language": "python",
   "name": "python3"
  },
  "language_info": {
   "codemirror_mode": {
    "name": "ipython",
    "version": 3
   },
   "file_extension": ".py",
   "mimetype": "text/x-python",
   "name": "python",
   "nbconvert_exporter": "python",
   "pygments_lexer": "ipython3",
   "version": "3.9.19"
  }
 },
 "nbformat": 4,
 "nbformat_minor": 2
}
